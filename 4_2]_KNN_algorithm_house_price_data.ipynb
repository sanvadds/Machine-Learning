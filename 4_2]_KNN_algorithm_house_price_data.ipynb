{
  "nbformat": 4,
  "nbformat_minor": 0,
  "metadata": {
    "colab": {
      "name": "4.2] KNN algorithm house price data.ipynb",
      "provenance": [],
      "collapsed_sections": []
    },
    "kernelspec": {
      "name": "python3",
      "display_name": "Python 3"
    },
    "language_info": {
      "name": "python"
    }
  },
  "cells": [
    {
      "cell_type": "code",
      "metadata": {
        "id": "KLCispdY16ly"
      },
      "source": [
        "import numpy as np\n",
        "import pandas as pd"
      ],
      "execution_count": null,
      "outputs": []
    },
    {
      "cell_type": "code",
      "metadata": {
        "id": "QBpgt0Tw2Sbr"
      },
      "source": [
        "data = pd.read_csv('/content/sample_data/House-Price.csv')"
      ],
      "execution_count": null,
      "outputs": []
    },
    {
      "cell_type": "code",
      "metadata": {
        "colab": {
          "base_uri": "https://localhost:8080/",
          "height": 224
        },
        "id": "XQiIXNxg2taf",
        "outputId": "889fc6e1-fc5f-4bc1-c3ca-8e0a3662e318"
      },
      "source": [
        "data.head()"
      ],
      "execution_count": null,
      "outputs": [
        {
          "output_type": "execute_result",
          "data": {
            "text/html": [
              "<div>\n",
              "<style scoped>\n",
              "    .dataframe tbody tr th:only-of-type {\n",
              "        vertical-align: middle;\n",
              "    }\n",
              "\n",
              "    .dataframe tbody tr th {\n",
              "        vertical-align: top;\n",
              "    }\n",
              "\n",
              "    .dataframe thead th {\n",
              "        text-align: right;\n",
              "    }\n",
              "</style>\n",
              "<table border=\"1\" class=\"dataframe\">\n",
              "  <thead>\n",
              "    <tr style=\"text-align: right;\">\n",
              "      <th></th>\n",
              "      <th>price</th>\n",
              "      <th>resid_area</th>\n",
              "      <th>air_qual</th>\n",
              "      <th>room_num</th>\n",
              "      <th>age</th>\n",
              "      <th>dist1</th>\n",
              "      <th>dist2</th>\n",
              "      <th>dist3</th>\n",
              "      <th>dist4</th>\n",
              "      <th>teachers</th>\n",
              "      <th>poor_prop</th>\n",
              "      <th>airport</th>\n",
              "      <th>n_hos_beds</th>\n",
              "      <th>n_hot_rooms</th>\n",
              "      <th>waterbody</th>\n",
              "      <th>rainfall</th>\n",
              "      <th>bus_ter</th>\n",
              "      <th>parks</th>\n",
              "      <th>Sold</th>\n",
              "    </tr>\n",
              "  </thead>\n",
              "  <tbody>\n",
              "    <tr>\n",
              "      <th>0</th>\n",
              "      <td>24.0</td>\n",
              "      <td>32.31</td>\n",
              "      <td>0.538</td>\n",
              "      <td>6.575</td>\n",
              "      <td>65.2</td>\n",
              "      <td>4.35</td>\n",
              "      <td>3.81</td>\n",
              "      <td>4.18</td>\n",
              "      <td>4.01</td>\n",
              "      <td>24.7</td>\n",
              "      <td>4.98</td>\n",
              "      <td>YES</td>\n",
              "      <td>5.480</td>\n",
              "      <td>11.1920</td>\n",
              "      <td>River</td>\n",
              "      <td>23</td>\n",
              "      <td>YES</td>\n",
              "      <td>0.049347</td>\n",
              "      <td>0</td>\n",
              "    </tr>\n",
              "    <tr>\n",
              "      <th>1</th>\n",
              "      <td>21.6</td>\n",
              "      <td>37.07</td>\n",
              "      <td>0.469</td>\n",
              "      <td>6.421</td>\n",
              "      <td>78.9</td>\n",
              "      <td>4.99</td>\n",
              "      <td>4.70</td>\n",
              "      <td>5.12</td>\n",
              "      <td>5.06</td>\n",
              "      <td>22.2</td>\n",
              "      <td>9.14</td>\n",
              "      <td>NO</td>\n",
              "      <td>7.332</td>\n",
              "      <td>12.1728</td>\n",
              "      <td>Lake</td>\n",
              "      <td>42</td>\n",
              "      <td>YES</td>\n",
              "      <td>0.046146</td>\n",
              "      <td>1</td>\n",
              "    </tr>\n",
              "    <tr>\n",
              "      <th>2</th>\n",
              "      <td>34.7</td>\n",
              "      <td>37.07</td>\n",
              "      <td>0.469</td>\n",
              "      <td>7.185</td>\n",
              "      <td>61.1</td>\n",
              "      <td>5.03</td>\n",
              "      <td>4.86</td>\n",
              "      <td>5.01</td>\n",
              "      <td>4.97</td>\n",
              "      <td>22.2</td>\n",
              "      <td>4.03</td>\n",
              "      <td>NO</td>\n",
              "      <td>7.394</td>\n",
              "      <td>101.1200</td>\n",
              "      <td>None</td>\n",
              "      <td>38</td>\n",
              "      <td>YES</td>\n",
              "      <td>0.045764</td>\n",
              "      <td>0</td>\n",
              "    </tr>\n",
              "    <tr>\n",
              "      <th>3</th>\n",
              "      <td>33.4</td>\n",
              "      <td>32.18</td>\n",
              "      <td>0.458</td>\n",
              "      <td>6.998</td>\n",
              "      <td>45.8</td>\n",
              "      <td>6.21</td>\n",
              "      <td>5.93</td>\n",
              "      <td>6.16</td>\n",
              "      <td>5.96</td>\n",
              "      <td>21.3</td>\n",
              "      <td>2.94</td>\n",
              "      <td>YES</td>\n",
              "      <td>9.268</td>\n",
              "      <td>11.2672</td>\n",
              "      <td>Lake</td>\n",
              "      <td>45</td>\n",
              "      <td>YES</td>\n",
              "      <td>0.047151</td>\n",
              "      <td>0</td>\n",
              "    </tr>\n",
              "    <tr>\n",
              "      <th>4</th>\n",
              "      <td>36.2</td>\n",
              "      <td>32.18</td>\n",
              "      <td>0.458</td>\n",
              "      <td>7.147</td>\n",
              "      <td>54.2</td>\n",
              "      <td>6.16</td>\n",
              "      <td>5.86</td>\n",
              "      <td>6.37</td>\n",
              "      <td>5.86</td>\n",
              "      <td>21.3</td>\n",
              "      <td>5.33</td>\n",
              "      <td>NO</td>\n",
              "      <td>8.824</td>\n",
              "      <td>11.2896</td>\n",
              "      <td>Lake</td>\n",
              "      <td>55</td>\n",
              "      <td>YES</td>\n",
              "      <td>0.039474</td>\n",
              "      <td>0</td>\n",
              "    </tr>\n",
              "  </tbody>\n",
              "</table>\n",
              "</div>"
            ],
            "text/plain": [
              "   price  resid_area  air_qual  room_num  ...  rainfall  bus_ter     parks  Sold\n",
              "0   24.0       32.31     0.538     6.575  ...        23      YES  0.049347     0\n",
              "1   21.6       37.07     0.469     6.421  ...        42      YES  0.046146     1\n",
              "2   34.7       37.07     0.469     7.185  ...        38      YES  0.045764     0\n",
              "3   33.4       32.18     0.458     6.998  ...        45      YES  0.047151     0\n",
              "4   36.2       32.18     0.458     7.147  ...        55      YES  0.039474     0\n",
              "\n",
              "[5 rows x 19 columns]"
            ]
          },
          "metadata": {
            "tags": []
          },
          "execution_count": 3
        }
      ]
    },
    {
      "cell_type": "code",
      "metadata": {
        "id": "CYoIr7Gl7M6N"
      },
      "source": [
        "data['price'].fillna(data['price'].mean(),inplace=True)"
      ],
      "execution_count": null,
      "outputs": []
    },
    {
      "cell_type": "code",
      "metadata": {
        "id": "s5c1HcwF7uDc"
      },
      "source": [
        "data['resid_area'].fillna(data['resid_area'].mean(),inplace=True)"
      ],
      "execution_count": null,
      "outputs": []
    },
    {
      "cell_type": "code",
      "metadata": {
        "id": "mE3a7cSN7-u0"
      },
      "source": [
        "data['air_qual'].fillna(data['air_qual'].mean(),inplace=True)"
      ],
      "execution_count": null,
      "outputs": []
    },
    {
      "cell_type": "code",
      "metadata": {
        "id": "BaxRhCix8Jvw"
      },
      "source": [
        "data['room_num'].fillna(data['room_num'].mean(),inplace=True)"
      ],
      "execution_count": null,
      "outputs": []
    },
    {
      "cell_type": "code",
      "metadata": {
        "id": "-8IHDiR68Tlx"
      },
      "source": [
        "data['age'].fillna(data['age'].mean(),inplace=True)"
      ],
      "execution_count": null,
      "outputs": []
    },
    {
      "cell_type": "code",
      "metadata": {
        "id": "goDHJXZo8UZj"
      },
      "source": [
        ""
      ],
      "execution_count": null,
      "outputs": []
    },
    {
      "cell_type": "code",
      "metadata": {
        "id": "QMmYWn492vU9"
      },
      "source": [
        "x = data[['resid_area','air_qual','room_num','age']]"
      ],
      "execution_count": null,
      "outputs": []
    },
    {
      "cell_type": "code",
      "metadata": {
        "colab": {
          "base_uri": "https://localhost:8080/"
        },
        "id": "vdRbyDzt5ep-",
        "outputId": "ec32936a-9d39-4a4b-90e9-da31ee5801c0"
      },
      "source": [
        "data.isnull().count()"
      ],
      "execution_count": null,
      "outputs": [
        {
          "output_type": "execute_result",
          "data": {
            "text/plain": [
              "price          506\n",
              "resid_area     506\n",
              "air_qual       506\n",
              "room_num       506\n",
              "age            506\n",
              "dist1          506\n",
              "dist2          506\n",
              "dist3          506\n",
              "dist4          506\n",
              "teachers       506\n",
              "poor_prop      506\n",
              "airport        506\n",
              "n_hos_beds     506\n",
              "n_hot_rooms    506\n",
              "waterbody      506\n",
              "rainfall       506\n",
              "bus_ter        506\n",
              "parks          506\n",
              "Sold           506\n",
              "dtype: int64"
            ]
          },
          "metadata": {
            "tags": []
          },
          "execution_count": 31
        }
      ]
    },
    {
      "cell_type": "code",
      "metadata": {
        "id": "IPPXDWOg3CXG"
      },
      "source": [
        "y = data.price"
      ],
      "execution_count": null,
      "outputs": []
    },
    {
      "cell_type": "code",
      "metadata": {
        "id": "kheh7Qxc3FFG"
      },
      "source": [
        "from sklearn.model_selection import train_test_split"
      ],
      "execution_count": null,
      "outputs": []
    },
    {
      "cell_type": "code",
      "metadata": {
        "id": "MEqVIfvH3KxF"
      },
      "source": [
        "x_train, x_test, y_train, y_test = train_test_split(x,y,test_size=0.2)"
      ],
      "execution_count": null,
      "outputs": []
    },
    {
      "cell_type": "code",
      "metadata": {
        "id": "IKc3TKiU3VxG"
      },
      "source": [
        "from sklearn.neighbors import KNeighborsRegressor"
      ],
      "execution_count": null,
      "outputs": []
    },
    {
      "cell_type": "code",
      "metadata": {
        "id": "-24aKBD23bYS"
      },
      "source": [
        "regressor = KNeighborsRegressor(n_neighbors=21)"
      ],
      "execution_count": null,
      "outputs": []
    },
    {
      "cell_type": "code",
      "metadata": {
        "colab": {
          "base_uri": "https://localhost:8080/"
        },
        "id": "3E8QRAu23iRk",
        "outputId": "aa253804-7003-4933-b1e0-495242633986"
      },
      "source": [
        "regressor.fit(x_train,y_train)"
      ],
      "execution_count": null,
      "outputs": [
        {
          "output_type": "execute_result",
          "data": {
            "text/plain": [
              "KNeighborsRegressor(algorithm='auto', leaf_size=30, metric='minkowski',\n",
              "                    metric_params=None, n_jobs=None, n_neighbors=21, p=2,\n",
              "                    weights='uniform')"
            ]
          },
          "metadata": {
            "tags": []
          },
          "execution_count": 49
        }
      ]
    },
    {
      "cell_type": "code",
      "metadata": {
        "colab": {
          "base_uri": "https://localhost:8080/"
        },
        "id": "qDlqdMbJ3quk",
        "outputId": "9aabb81b-3481-43a9-cd59-8af8fb9f43ce"
      },
      "source": [
        "regressor.predict(x_test)"
      ],
      "execution_count": null,
      "outputs": [
        {
          "output_type": "execute_result",
          "data": {
            "text/plain": [
              "array([26.66666667, 25.70952381, 19.48571429, 26.41428571, 27.72380952,\n",
              "       23.33333333, 18.89047619, 26.81428571, 27.25714286, 26.4952381 ,\n",
              "       23.02857143, 26.18571429, 19.0952381 , 22.8047619 , 28.14761905,\n",
              "       18.11428571, 23.1       , 27.8952381 , 23.1952381 , 24.11904762,\n",
              "       28.46666667, 28.4047619 , 15.49047619, 14.26190476, 26.5952381 ,\n",
              "       18.34285714, 15.06190476, 17.32857143, 26.07619048, 15.34285714,\n",
              "       25.9952381 , 24.10952381, 20.27142857, 26.09047619, 26.83809524,\n",
              "       25.46190476, 28.57619048, 18.86666667, 14.61904762, 27.09047619,\n",
              "       15.61428571, 17.59047619, 18.43809524, 15.15238095, 26.73333333,\n",
              "       28.4047619 , 19.18571429, 16.61904762, 22.75238095, 25.62380952,\n",
              "       19.26190476, 21.65714286, 15.9047619 , 19.26190476, 18.78095238,\n",
              "       27.54761905, 25.11428571, 19.03333333, 15.25714286, 22.09047619,\n",
              "       16.86190476, 27.83333333, 23.92380952, 23.45714286, 28.33809524,\n",
              "       15.52857143, 24.57619048, 29.1       , 18.03333333, 28.23333333,\n",
              "       17.6       , 24.2952381 , 20.67142857, 20.94761905, 23.42380952,\n",
              "       24.12857143, 19.9952381 , 14.16190476, 15.34285714, 22.53809524,\n",
              "       24.83809524, 20.5       , 16.69047619, 19.48571429, 25.12857143,\n",
              "       16.90952381, 17.13809524, 16.26190476, 15.11428571, 29.84761905,\n",
              "       24.52857143, 21.80952381, 16.95238095, 14.74285714, 19.57142857,\n",
              "       15.54285714, 13.6952381 , 15.15238095, 28.44761905, 20.9952381 ,\n",
              "       15.72857143, 15.45238095])"
            ]
          },
          "metadata": {
            "tags": []
          },
          "execution_count": 50
        }
      ]
    },
    {
      "cell_type": "code",
      "metadata": {
        "colab": {
          "base_uri": "https://localhost:8080/"
        },
        "id": "T9A4L0c29PBl",
        "outputId": "d6212859-af2b-46fc-f8b9-a76b5887fa6c"
      },
      "source": [
        "regressor.score(x_test,y_test)"
      ],
      "execution_count": null,
      "outputs": [
        {
          "output_type": "execute_result",
          "data": {
            "text/plain": [
              "0.29164085889901076"
            ]
          },
          "metadata": {
            "tags": []
          },
          "execution_count": 51
        }
      ]
    },
    {
      "cell_type": "code",
      "metadata": {
        "id": "FAAYAHP09VCW"
      },
      "source": [
        ""
      ],
      "execution_count": null,
      "outputs": []
    }
  ]
}